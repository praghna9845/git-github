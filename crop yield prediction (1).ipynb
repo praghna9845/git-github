{
 "cells": [
  {
   "cell_type": "markdown",
   "id": "9a62c0d8",
   "metadata": {},
   "source": [
    "# Crop Yield Prediction | Indian Agriculture Dataset 2023"
   ]
  },
  {
   "cell_type": "markdown",
   "id": "0878f6cf",
   "metadata": {},
   "source": [
    "## Import the libraries"
   ]
  },
  {
   "cell_type": "code",
   "execution_count": 1,
   "id": "5b978d15",
   "metadata": {},
   "outputs": [],
   "source": [
    "import pandas as pd\n",
    "from sklearn.model_selection import train_test_split\n",
    "from sklearn.preprocessing import StandardScaler\n",
    "from sklearn.ensemble import RandomForestRegressor, GradientBoostingRegressor\n",
    "from sklearn.linear_model import LinearRegression\n",
    "from sklearn.tree import DecisionTreeRegressor\n",
    "from sklearn.neighbors import KNeighborsRegressor\n",
    "import matplotlib.pyplot as plt\n",
    "import numpy as np\n",
    "from sklearn.metrics import mean_squared_error\n",
    "from sklearn.metrics import r2_score\n",
    "import time"
   ]
  },
  {
   "cell_type": "markdown",
   "id": "5d5624c5",
   "metadata": {},
   "source": [
    "## Read the dataset"
   ]
  },
  {
   "cell_type": "code",
   "execution_count": 2,
   "id": "f43e86ca",
   "metadata": {},
   "outputs": [
    {
     "data": {
      "text/html": [
       "<div>\n",
       "<style scoped>\n",
       "    .dataframe tbody tr th:only-of-type {\n",
       "        vertical-align: middle;\n",
       "    }\n",
       "\n",
       "    .dataframe tbody tr th {\n",
       "        vertical-align: top;\n",
       "    }\n",
       "\n",
       "    .dataframe thead th {\n",
       "        text-align: right;\n",
       "    }\n",
       "</style>\n",
       "<table border=\"1\" class=\"dataframe\">\n",
       "  <thead>\n",
       "    <tr style=\"text-align: right;\">\n",
       "      <th></th>\n",
       "      <th>State_Name</th>\n",
       "      <th>District_Name</th>\n",
       "      <th>Crop_Year</th>\n",
       "      <th>Season</th>\n",
       "      <th>Crop</th>\n",
       "      <th>Area</th>\n",
       "      <th>Production</th>\n",
       "    </tr>\n",
       "  </thead>\n",
       "  <tbody>\n",
       "    <tr>\n",
       "      <th>152235</th>\n",
       "      <td>Odisha</td>\n",
       "      <td>JAGATSINGHAPUR</td>\n",
       "      <td>2023</td>\n",
       "      <td>Summer</td>\n",
       "      <td>Sesamum</td>\n",
       "      <td>7.0</td>\n",
       "      <td>1.9</td>\n",
       "    </tr>\n",
       "    <tr>\n",
       "      <th>152234</th>\n",
       "      <td>Odisha</td>\n",
       "      <td>JAGATSINGHAPUR</td>\n",
       "      <td>2023</td>\n",
       "      <td>Summer</td>\n",
       "      <td>Moong(Green Gram)</td>\n",
       "      <td>45996.0</td>\n",
       "      <td>16650.6</td>\n",
       "    </tr>\n",
       "    <tr>\n",
       "      <th>152233</th>\n",
       "      <td>Odisha</td>\n",
       "      <td>JAGATSINGHAPUR</td>\n",
       "      <td>2023</td>\n",
       "      <td>Summer</td>\n",
       "      <td>Horse-gram</td>\n",
       "      <td>13.0</td>\n",
       "      <td>3.6</td>\n",
       "    </tr>\n",
       "    <tr>\n",
       "      <th>156175</th>\n",
       "      <td>Odisha</td>\n",
       "      <td>MALKANGIRI</td>\n",
       "      <td>2023</td>\n",
       "      <td>Winter</td>\n",
       "      <td>Moong(Green Gram)</td>\n",
       "      <td>52.0</td>\n",
       "      <td>12.2</td>\n",
       "    </tr>\n",
       "    <tr>\n",
       "      <th>148201</th>\n",
       "      <td>Odisha</td>\n",
       "      <td>BALESHWAR</td>\n",
       "      <td>2023</td>\n",
       "      <td>Summer</td>\n",
       "      <td>Groundnut</td>\n",
       "      <td>2079.0</td>\n",
       "      <td>2490.6</td>\n",
       "    </tr>\n",
       "  </tbody>\n",
       "</table>\n",
       "</div>"
      ],
      "text/plain": [
       "       State_Name   District_Name  Crop_Year  Season               Crop  \\\n",
       "152235     Odisha  JAGATSINGHAPUR       2023  Summer            Sesamum   \n",
       "152234     Odisha  JAGATSINGHAPUR       2023  Summer  Moong(Green Gram)   \n",
       "152233     Odisha  JAGATSINGHAPUR       2023  Summer         Horse-gram   \n",
       "156175     Odisha      MALKANGIRI       2023  Winter  Moong(Green Gram)   \n",
       "148201     Odisha       BALESHWAR       2023  Summer          Groundnut   \n",
       "\n",
       "           Area  Production  \n",
       "152235      7.0         1.9  \n",
       "152234  45996.0     16650.6  \n",
       "152233     13.0         3.6  \n",
       "156175     52.0        12.2  \n",
       "148201   2079.0      2490.6  "
      ]
     },
     "execution_count": 2,
     "metadata": {},
     "output_type": "execute_result"
    }
   ],
   "source": [
    "# Load the dataset\n",
    "df = pd.read_csv(\"crop_production.csv\")\n",
    "\n",
    "# Sort the DataFrame by 'Crop_Year' and display the first 10 rows\n",
    "df.sort_values('Crop_Year').tail()"
   ]
  },
  {
   "cell_type": "markdown",
   "id": "73aacdcf",
   "metadata": {},
   "source": [
    "## Set the datatypes of columns and remove 'na' values"
   ]
  },
  {
   "cell_type": "code",
   "execution_count": 3,
   "id": "52927210",
   "metadata": {},
   "outputs": [
    {
     "name": "stdout",
     "output_type": "stream",
     "text": [
      "<class 'pandas.core.frame.DataFrame'>\n",
      "Index: 242361 entries, 0 to 246090\n",
      "Data columns (total 7 columns):\n",
      " #   Column         Non-Null Count   Dtype  \n",
      "---  ------         --------------   -----  \n",
      " 0   State_Name     242361 non-null  object \n",
      " 1   District_Name  242361 non-null  object \n",
      " 2   Crop_Year      242361 non-null  int64  \n",
      " 3   Season         242361 non-null  object \n",
      " 4   Crop           242361 non-null  object \n",
      " 5   Area           242361 non-null  float64\n",
      " 6   Production     242361 non-null  int64  \n",
      "dtypes: float64(1), int64(2), object(4)\n",
      "memory usage: 14.8+ MB\n"
     ]
    }
   ],
   "source": [
    "# Set data types\n",
    "dtypes = {\n",
    "    'State_Name': 'object',\n",
    "    'District_Name': 'object',\n",
    "    'Crop_Year': 'int64',\n",
    "    'Season': 'object',\n",
    "    'Crop': 'object',\n",
    "    'Area': 'float64',\n",
    "    'Production': 'int64'\n",
    "}\n",
    "\n",
    "df = df.dropna().astype(dtypes)\n",
    "\n",
    "df.info()"
   ]
  },
  {
   "cell_type": "markdown",
   "id": "eeba246b",
   "metadata": {},
   "source": [
    "## Data Preprocessing"
   ]
  },
  {
   "cell_type": "code",
   "execution_count": 4,
   "id": "ab72e503",
   "metadata": {},
   "outputs": [],
   "source": [
    "# Data preprocessing\n",
    "X = df.drop(['Production'], axis=1)  # Features\n",
    "\n",
    "# Data preprocessing\n",
    "categorical_columns = ['State_Name', 'District_Name', 'Season', 'Crop']\n",
    "\n",
    "# Encode only the selected categorical variables\n",
    "X_categorical = pd.get_dummies(df[categorical_columns])\n",
    "\n",
    "# Combine the categorical variables with the numerical ones\n",
    "X = pd.concat([X.drop(categorical_columns, axis=1), X_categorical], axis=1)\n",
    "\n",
    "y = df['Production']  # Target variable"
   ]
  },
  {
   "cell_type": "markdown",
   "id": "c92fddd7",
   "metadata": {},
   "source": [
    "## Split the dataset into training and testing"
   ]
  },
  {
   "cell_type": "code",
   "execution_count": 5,
   "id": "363b62ce",
   "metadata": {},
   "outputs": [],
   "source": [
    "# Split the data into training and testing sets\n",
    "X_train, X_test, y_train, y_test = train_test_split(X, y, test_size=0.2, random_state=42)"
   ]
  },
  {
   "cell_type": "code",
   "execution_count": 6,
   "id": "810c1d8c",
   "metadata": {},
   "outputs": [],
   "source": [
    "# Standardize features\n",
    "scaler = StandardScaler()\n",
    "X_train_scaled = scaler.fit_transform(X_train)\n",
    "X_test_scaled = scaler.transform(X_test)"
   ]
  },
  {
   "cell_type": "code",
   "execution_count": 7,
   "id": "191c5618",
   "metadata": {},
   "outputs": [],
   "source": [
    "training_times = {}"
   ]
  },
  {
   "cell_type": "markdown",
   "id": "9dac718c",
   "metadata": {},
   "source": [
    "## Algorithms"
   ]
  },
  {
   "cell_type": "code",
   "execution_count": 8,
   "id": "9ef2c614",
   "metadata": {},
   "outputs": [
    {
     "name": "stdout",
     "output_type": "stream",
     "text": [
      "Linear Regression Mean Squared Error: 330094446075664.5\n",
      "Linear Regression Root Mean Squared Error: 18168501.481290758\n",
      "Linear Regression R-squared: 17.95589621176751\n"
     ]
    }
   ],
   "source": [
    "# Linear Regression\n",
    "\n",
    "start_time = time.time()\n",
    "\n",
    "linear_reg_model = LinearRegression()\n",
    "linear_reg_model.fit(X_train_scaled, y_train)\n",
    "\n",
    "end_time = time.time()\n",
    "training_time = end_time - start_time\n",
    "\n",
    "training_times['Linear Regression'] = training_time\n",
    "    \n",
    "y_pred_linear = linear_reg_model.predict(X_test_scaled)\n",
    "mse_linear = mean_squared_error(y_test, y_pred_linear)\n",
    "print(f'Linear Regression Mean Squared Error: {mse_linear}')\n",
    "\n",
    "rmse_linear = np.sqrt(mean_squared_error(y_test, y_pred_linear))\n",
    "print(f'Linear Regression Root Mean Squared Error: {rmse_linear}')\n",
    "\n",
    "r2_linear = r2_score(y_test, y_pred_linear)\n",
    "print(f'Linear Regression R-squared: {r2_linear*100}')"
   ]
  },
  {
   "cell_type": "code",
   "execution_count": 9,
   "id": "23da435e",
   "metadata": {},
   "outputs": [
    {
     "name": "stdout",
     "output_type": "stream",
     "text": [
      "Random Forest Mean Squared Error: 19892506269296.465\n",
      "Random Forest Root Mean Squared Error: 4460101.598539709\n",
      "Random Forest R-squared: 95.05577004288003\n"
     ]
    }
   ],
   "source": [
    "# Random Forest\n",
    "\n",
    "start_time = time.time()\n",
    "random_forest_model = RandomForestRegressor(n_estimators=5)\n",
    "random_forest_model.fit(X_train_scaled, y_train)\n",
    "\n",
    "end_time = time.time()\n",
    "training_time = end_time - start_time\n",
    "\n",
    "training_times['Random Forest'] = training_time\n",
    "\n",
    "y_pred_rf = random_forest_model.predict(X_test_scaled)\n",
    "mse_rf = mean_squared_error(y_test, y_pred_rf)\n",
    "print(f'Random Forest Mean Squared Error: {mse_rf}')\n",
    "\n",
    "rmse_rf = np.sqrt(mean_squared_error(y_test, y_pred_rf))\n",
    "print(f'Random Forest Root Mean Squared Error: {rmse_rf}')\n",
    "\n",
    "r2_rf = r2_score(y_test, y_pred_rf)\n",
    "print(f'Random Forest R-squared: {r2_rf*100}')"
   ]
  },
  {
   "cell_type": "code",
   "execution_count": 10,
   "id": "ed510ec1",
   "metadata": {},
   "outputs": [
    {
     "name": "stdout",
     "output_type": "stream",
     "text": [
      "Gradient Boosting Mean Squared Error: 220527011497694.28\n",
      "Gradient Boosting Root Mean Squared Error: 14850151.901502363\n",
      "Gradient Boosting R-squared: 45.18859303898045\n"
     ]
    }
   ],
   "source": [
    "# Gradient Boosting\n",
    "\n",
    "start_time = time.time()\n",
    "\n",
    "gradient_boosting_model = GradientBoostingRegressor(n_estimators=5)\n",
    "gradient_boosting_model.fit(X_train_scaled, y_train)\n",
    "\n",
    "end_time = time.time()\n",
    "training_time = end_time - start_time\n",
    "\n",
    "training_times['Gradient Boosting'] = training_time\n",
    "\n",
    "y_pred_gb = gradient_boosting_model.predict(X_test_scaled)\n",
    "mse_gb = mean_squared_error(y_test, y_pred_gb)\n",
    "print(f'Gradient Boosting Mean Squared Error: {mse_gb}')\n",
    "\n",
    "rmse_gb = np.sqrt(mean_squared_error(y_test, y_pred_gb))\n",
    "print(f'Gradient Boosting Root Mean Squared Error: {rmse_gb}')\n",
    "\n",
    "r2_gb = r2_score(y_test, y_pred_gb)\n",
    "print(f'Gradient Boosting R-squared: {r2_gb*100}')"
   ]
  },
  {
   "cell_type": "code",
   "execution_count": 11,
   "id": "76dfd0fb",
   "metadata": {},
   "outputs": [
    {
     "name": "stdout",
     "output_type": "stream",
     "text": [
      "Decision Tree Mean Squared Error: 19026934490044.066\n",
      "Decision Tree Root Mean Squared Error: 4361987.447258883\n",
      "Decision Tree R-squared: 95.27090562524869\n"
     ]
    }
   ],
   "source": [
    "# Decision Tree\n",
    "\n",
    "start_time = time.time()\n",
    "\n",
    "decision_tree_model = DecisionTreeRegressor(random_state=42)\n",
    "decision_tree_model.fit(X_train_scaled, y_train)\n",
    "\n",
    "end_time = time.time()\n",
    "training_time = end_time - start_time\n",
    "\n",
    "training_times['Decision Tree'] = training_time\n",
    "\n",
    "y_pred_dt = decision_tree_model.predict(X_test_scaled)\n",
    "mse_dt = mean_squared_error(y_test, y_pred_dt)\n",
    "print(f'Decision Tree Mean Squared Error: {mse_dt}')\n",
    "\n",
    "rmse_dt = np.sqrt(mean_squared_error(y_test, y_pred_dt))\n",
    "print(f'Decision Tree Root Mean Squared Error: {rmse_dt}')\n",
    "\n",
    "r2_dt = r2_score(y_test, y_pred_dt)\n",
    "print(f'Decision Tree R-squared: {r2_dt*100}')"
   ]
  },
  {
   "cell_type": "code",
   "execution_count": 12,
   "id": "2ea32d4f",
   "metadata": {},
   "outputs": [
    {
     "name": "stdout",
     "output_type": "stream",
     "text": [
      "K-Nearest Neighbors Mean Squared Error: 46144477687609.12\n",
      "K-Nearest Neighbors Root Mean Squared Error: 6792972.669428983\n",
      "K-Nearest Neighbors R-squared: 0.8853091179913952\n"
     ]
    }
   ],
   "source": [
    "# K-Nearest Neighbors\n",
    "\n",
    "start_time = time.time()\n",
    "\n",
    "knn_model = KNeighborsRegressor(n_neighbors=5)  # You can adjust the number of neighbors as needed\n",
    "knn_model.fit(X_train_scaled, y_train)\n",
    "\n",
    "end_time = time.time()\n",
    "training_time = end_time - start_time\n",
    "\n",
    "training_times['K-Nearest Neighbors'] = training_time\n",
    "\n",
    "y_pred_knn = knn_model.predict(X_test_scaled)\n",
    "mse_knn = mean_squared_error(y_test, y_pred_knn)\n",
    "print(f'K-Nearest Neighbors Mean Squared Error: {mse_knn}')\n",
    "\n",
    "rmse_knn = np.sqrt(mean_squared_error(y_test, y_pred_knn))\n",
    "print(f'K-Nearest Neighbors Root Mean Squared Error: {rmse_knn}')\n",
    "\n",
    "r2_knn = r2_score(y_test, y_pred_knn)\n",
    "print(f'K-Nearest Neighbors R-squared: {r2_knn}')"
   ]
  },
  {
   "cell_type": "markdown",
   "id": "c3918653",
   "metadata": {},
   "source": [
    "## Plot the accuracy graph"
   ]
  },
  {
   "cell_type": "code",
   "execution_count": 13,
   "id": "06175d77",
   "metadata": {},
   "outputs": [
    {
     "data": {
      "image/png": "[encoded data removed]",
      "text/plain": [
       "<Figure size 1000x400 with 1 Axes>"
      ]
     },
     "metadata": {},
     "output_type": "display_data"
    }
   ],
   "source": [
    "# Assuming you have a dictionary 'mse_results' with algorithm names as keys and MSE values as values\n",
    "mse_results = {\n",
    "    'Linear Regression': r2_linear,\n",
    "    'Decision Tree': r2_dt,\n",
    "    'Random Forest': r2_rf,\n",
    "    'K-Nearest Neighbors': r2_knn\n",
    "}\n",
    "\n",
    "# Plot the MSE results\n",
    "plt.figure(figsize=(10, 4))\n",
    "plt.bar(mse_results.keys(), mse_results.values(), color='skyblue')\n",
    "plt.title('R-squared for Different Algorithms')\n",
    "plt.xlabel('Algorithms')\n",
    "plt.ylabel('R-squared')\n",
    "plt.show()"
   ]
  },
  {
   "cell_type": "markdown",
   "id": "bbae8e89",
   "metadata": {},
   "source": [
    "## Plot the time taken graph"
   ]
  },
  {
   "cell_type": "code",
   "execution_count": 14,
   "id": "a0c62d7a",
   "metadata": {},
   "outputs": [
    {
     "data": {
      "image/png": "[encoded data removed]",
      "text/plain": [
       "<Figure size 1000x400 with 1 Axes>"
      ]
     },
     "metadata": {},
     "output_type": "display_data"
    }
   ],
   "source": [
    "# Plot the time taken\n",
    "plt.figure(figsize=(10, 4))\n",
    "plt.bar(training_times.keys(), training_times.values(), color='orange')\n",
    "plt.title('Training Time for Different Algorithms')\n",
    "plt.xlabel('Algorithms')\n",
    "plt.ylabel('Training Time (seconds)')\n",
    "plt.show()"
   ]
  },
  {
   "cell_type": "markdown",
   "id": "3869b87f",
   "metadata": {},
   "source": [
    "The ideal approach to finding the best algorithm is that it should take less time, have a very low Mean Squared Error (MSE), and achieve the highest R-squared value.\n",
    "\n",
    "In our project, out of the five algorithms we tested, Decision Tree is the top performer as it took less time and achieves the highest R-squared score.\n",
    "\n",
    "Decision Tree Won !"
   ]
  },
  {
   "cell_type": "markdown",
   "id": "fa19e8db",
   "metadata": {},
   "source": [
    "## Save Decision Tree Model"
   ]
  },
  {
   "cell_type": "code",
   "execution_count": 15,
   "id": "30e4596b",
   "metadata": {},
   "outputs": [],
   "source": [
    "import pickle\n",
    "\n",
    "# Save the model to a file\n",
    "with open('decision_tree_model.pkl', 'wb') as file:\n",
    "    pickle.dump(decision_tree_model, file)"
   ]
  },
  {
   "cell_type": "markdown",
   "id": "3eb743e4",
   "metadata": {},
   "source": [
    "## Single prediction"
   ]
  },
  {
   "cell_type": "code",
   "execution_count": 16,
   "id": "8f6674b3",
   "metadata": {},
   "outputs": [
    {
     "name": "stdout",
     "output_type": "stream",
     "text": [
      "The predicted Yield for the given input is: 0.4666666666666667\n"
     ]
    }
   ],
   "source": [
    "model = pickle.load(open('decision_tree_model.pkl', 'rb'))\n",
    "\n",
    "dataset = pd.read_csv('crop_production.csv')\n",
    "\n",
    "dataset_x = dataset.drop('Production', axis=1)\n",
    "\n",
    "train_dummy_crop = pd.get_dummies(dataset_x)\n",
    "\n",
    "scaler_crop = StandardScaler()\n",
    "scaler_crop.fit_transform(train_dummy_crop)\n",
    "\n",
    "# Define the new data point\n",
    "new_data = pd.DataFrame({\n",
    "    'State_Name': ['Andaman and Nicobar Islands'],\n",
    "    'District_Name': ['NICOBARS'],\n",
    "    'Crop_Year': [2000],\n",
    "    'Season': ['Kharif'],\n",
    "    'Crop': ['Arecanut'],\n",
    "    'Area': [15]\n",
    "})\n",
    "\n",
    "\n",
    "new_df = pd.DataFrame(new_data, columns=[\"State_Name\", \"District_Name\", \"Crop_Year\", \"Season\", \"Crop\", \"Area\"])\n",
    "new_df = pd.get_dummies(new_df)\n",
    "new_df = new_df.reindex(columns=train_dummy_crop.columns, fill_value=0)\n",
    "\n",
    "prediction = model.predict(scaler_crop.transform(new_df))\n",
    "\n",
    "# Print the prediction\n",
    "print(f'The predicted Yield for the given input is: {prediction[0]/new_data[\"Area\"].values[0]}')"
   ]
  },
  {
   "cell_type": "markdown",
   "id": "8a5dd352",
   "metadata": {},
   "source": [
    "Yield = Production/Area\n",
    "\n",
    "This formula represents the yield as the amount of agricultural production per unit of land area."
   ]
  },
  {
   "cell_type": "code",
   "execution_count": null,
   "id": "84a96557",
   "metadata": {},
   "outputs": [],
   "source": []
  }
 ],
 "metadata": {
  "kernelspec": {
   "display_name": "Python 3 (ipykernel)",
   "language": "python",
   "name": "python3"
  },
  "language_info": {
   "codemirror_mode": {
    "name": "ipython",
    "version": 3
   },
   "file_extension": ".py",
   "mimetype": "text/x-python",
   "name": "python",
   "nbconvert_exporter": "python",
   "pygments_lexer": "ipython3",
   "version": "3.12.0"
  }
 },
 "nbformat": 4,
 "nbformat_minor": 5
}
